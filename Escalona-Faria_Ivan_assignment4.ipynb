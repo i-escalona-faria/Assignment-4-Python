{
 "cells": [
  {
   "cell_type": "markdown",
   "metadata": {},
   "source": [
    "# Homework 4\n",
    "\n",
    "## Ivan Escalona-Faria\n",
    "#### Panther ID: 002395228\n",
    "\n",
    "### Question 0: Show all your code to acquire the dataset in your notebook. If you fail to show how you acquired the dataset, you will earn a zero on the assignment."
   ]
  },
  {
   "cell_type": "code",
   "execution_count": 1,
   "metadata": {},
   "outputs": [],
   "source": [
    "import numpy as np\n",
    "import requests\n",
    "import pandas as pd\n",
    "import matplotlib.pyplot as plt\n",
    "import io"
   ]
  },
  {
   "cell_type": "code",
   "execution_count": 2,
   "metadata": {},
   "outputs": [],
   "source": [
    "\n",
    "years = ['2016','2017','2018','2019']\n",
    "months = ['01','02', '03', '04', '05', '06', '07', '08', '09', '10', '11', '12']\n",
    "year_month = []\n",
    "\n",
    "for year in years:\n",
    "    \n",
    "    for month in months:\n",
    "        if (year == '2019' and (month == '11' or month == '12') ):\n",
    "            pass\n",
    "        else:\n",
    "            year_month.append(f'{year}-{month}')"
   ]
  },
  {
   "cell_type": "code",
   "execution_count": null,
   "metadata": {},
   "outputs": [
    {
     "name": "stdout",
     "output_type": "stream",
     "text": [
      "200 200 200 200 200 200 200 "
     ]
    }
   ],
   "source": [
    "data = []\n",
    "for i in range(0,len(year_month)-1):\n",
    "    response = requests.get(f'https://earthquake.usgs.gov/fdsnws/event/1/query?format=csv&starttime={year_month[i]}-01&endtime={year_month[i+1]}-01&minmagnitude=4&eventtype=earthquake')\n",
    "    print(response.status_code, end = \" \")\n",
    "    \n",
    "    data.append(response)"
   ]
  },
  {
   "cell_type": "code",
   "execution_count": null,
   "metadata": {},
   "outputs": [],
   "source": [
    "#https://stackoverflow.com/questions/39213597/convert-text-data-from-requests-object-to-dataframe-with-pandas\n",
    "\n",
    "df = pd.DataFrame()\n",
    "\n",
    "for i in range(0,len(data)):\n",
    "    temp_data = pd.read_csv(io.StringIO(data[i].content.decode('utf-8')))\n",
    "    df = pd.concat([df,temp_data])"
   ]
  },
  {
   "cell_type": "code",
   "execution_count": null,
   "metadata": {},
   "outputs": [],
   "source": [
    "response = requests.get('https://earthquake.usgs.gov/fdsnws/event/1/query?format=csv&starttime=2019-10-01&endtime=2019-10-02&minmagnitude=4&eventtype=earthquake')\n",
    "print(response.status_code)\n",
    "temp_data = pd.read_csv(io.StringIO(response.content.decode('utf-8')))\n",
    "df = pd.concat([df,temp_data])"
   ]
  },
  {
   "cell_type": "code",
   "execution_count": null,
   "metadata": {},
   "outputs": [],
   "source": [
    "data_frame = df.copy()"
   ]
  },
  {
   "cell_type": "code",
   "execution_count": null,
   "metadata": {},
   "outputs": [],
   "source": [
    "df = data_frame.copy()"
   ]
  },
  {
   "cell_type": "code",
   "execution_count": null,
   "metadata": {},
   "outputs": [],
   "source": [
    "df.to_csv(path_or_buf='Source_Data.csv', index=False)"
   ]
  },
  {
   "cell_type": "markdown",
   "metadata": {},
   "source": [
    "### Question 1: Use describe to get the basic statistics of all the columns (5 points)"
   ]
  },
  {
   "cell_type": "code",
   "execution_count": null,
   "metadata": {},
   "outputs": [],
   "source": [
    "print(df.describe())"
   ]
  },
  {
   "cell_type": "code",
   "execution_count": null,
   "metadata": {},
   "outputs": [],
   "source": [
    "#Exploring of the data\n",
    "\n",
    "df.info()"
   ]
  },
  {
   "cell_type": "markdown",
   "metadata": {},
   "source": [
    "### Question 2: Get the top 10 earthquakes by magnitude (5 points)"
   ]
  },
  {
   "cell_type": "code",
   "execution_count": null,
   "metadata": {},
   "outputs": [],
   "source": [
    "print(df.sort_values(by = 'mag', ascending = False).head(10))"
   ]
  },
  {
   "cell_type": "markdown",
   "metadata": {},
   "source": [
    "### Question 3: Handle all Null/empty data by filling it with zeros (10 points)"
   ]
  },
  {
   "cell_type": "code",
   "execution_count": null,
   "metadata": {},
   "outputs": [],
   "source": [
    "df.fillna(value = 0, inplace = True)"
   ]
  },
  {
   "cell_type": "code",
   "execution_count": null,
   "metadata": {},
   "outputs": [],
   "source": [
    "print(df.info())"
   ]
  },
  {
   "cell_type": "markdown",
   "metadata": {},
   "source": [
    "### Question 4: Find the top 10 places where the strongest earthquakes occurred (15 points) (Note: Place needs to be parsed nicely to remove the KM location from them. For example: 75km WSW of Illapel, Chile should look like Illapel, Chile)."
   ]
  },
  {
   "cell_type": "code",
   "execution_count": null,
   "metadata": {},
   "outputs": [],
   "source": [
    "# https://stackoverflow.com/questions/29247718/map-an-if-statement-in-python\n",
    "#https://www.geeksforgeeks.org/python-string-isnumeric-application/\n",
    "\n",
    "df['place'] = df['place'].map(lambda x: ' '.join(x.split(' ')[3:]) if (x[0].isnumeric()) else x)\n",
    "q4 = df.groupby(['place', 'mag']).count().sort_values(by = 'mag', ascending = False)\n",
    "print(q4.head(10))"
   ]
  },
  {
   "cell_type": "markdown",
   "metadata": {},
   "source": [
    "### Question 5: Find the top 10 places where the weakest earthquakes occurred (15 points) (Note: Place needs to be parsed nicely to remove the KM location from them. For example: 75km WSW of Illapel, Chile should look like Illapel, Chile)."
   ]
  },
  {
   "cell_type": "code",
   "execution_count": null,
   "metadata": {},
   "outputs": [],
   "source": [
    "q5 = df.groupby(['place', 'mag']).count().sort_values(by = 'mag', ascending = True)\n",
    "print(q5.head(10))"
   ]
  },
  {
   "cell_type": "markdown",
   "metadata": {},
   "source": [
    "### Question 6: On a per-year basis, use a bar chart to plot the number of earthquakes for each of the following magnitude groups ranges: Group 1: [4,4.5), Group 2: [4.5,5), Group 3: [5,6), Group 4: [6,7), Group 5: (7,MAX]. Pay close attention to the group ranges. (20 points) Please add labels and colors to the plot."
   ]
  },
  {
   "cell_type": "code",
   "execution_count": null,
   "metadata": {},
   "outputs": [],
   "source": [
    "#Parsing time into just year (First 4 digits of the string)\n",
    "\n",
    "df['year'] = df['time'].map(lambda x: x[:4])"
   ]
  },
  {
   "cell_type": "code",
   "execution_count": null,
   "metadata": {},
   "outputs": [],
   "source": [
    "#Creating the required bins\n",
    "\n",
    "bins = {'4.0-4.5': [4.0, 4.5], '4.5-5.0': [4.5, 5.0], '5.0-6.0': [5.0, 6.0], '6.0-7.0': [6.0, 7.0], '7.0-Max': [7.0, 9.0]}\n",
    "bins"
   ]
  },
  {
   "cell_type": "code",
   "execution_count": null,
   "metadata": {},
   "outputs": [],
   "source": [
    "#Defining the function to classify and then map each earthquake by magnitude into the corresponding bin\n",
    "\n",
    "def magnitude_bin(x):\n",
    "    if x < 4.5:\n",
    "        return list(bins.keys())[0]\n",
    "    elif x < 5.0:\n",
    "        return list(bins.keys())[1]\n",
    "    elif x < 6.0:\n",
    "        return list(bins.keys())[2]\n",
    "    elif x < 7.0:\n",
    "        return list(bins.keys())[3]\n",
    "    else:\n",
    "        return list(bins.keys())[4]\n",
    "\n"
   ]
  },
  {
   "cell_type": "code",
   "execution_count": null,
   "metadata": {},
   "outputs": [],
   "source": [
    "df['mag_bins'] = df['mag'].map(lambda x: magnitude_bin(x))"
   ]
  },
  {
   "cell_type": "code",
   "execution_count": null,
   "metadata": {},
   "outputs": [],
   "source": [
    "q6 = df.groupby(by = ['year','mag_bins'] ).count()['type']\n",
    "years = df['year'].unique().tolist()\n",
    "years"
   ]
  },
  {
   "cell_type": "code",
   "execution_count": null,
   "metadata": {},
   "outputs": [],
   "source": [
    "hist_bins = q6['2016'].index.to_list()"
   ]
  },
  {
   "cell_type": "code",
   "execution_count": null,
   "metadata": {},
   "outputs": [],
   "source": [
    "hist_bins"
   ]
  },
  {
   "cell_type": "code",
   "execution_count": null,
   "metadata": {},
   "outputs": [],
   "source": [
    "colors = ['#18FA18', '#F2F921', '#F92128', '#FAB618']"
   ]
  },
  {
   "cell_type": "code",
   "execution_count": null,
   "metadata": {},
   "outputs": [],
   "source": [
    "x_locations = list(range(1,6))"
   ]
  },
  {
   "cell_type": "code",
   "execution_count": null,
   "metadata": {},
   "outputs": [],
   "source": [
    "fig, ax = plt.subplots(1, 1, sharey=True, tight_layout=True)\n",
    "\n",
    "for i in range(0,len(years)):\n",
    "    x_locations = list(map(lambda x: float(x)+(0.2*i), x_positions))\n",
    "    ax.bar(x = x_locations, height = q6[f'{years[i]}'], width = 0.2, color = colors[i], tick_label = hist_bins)\n",
    "\n",
    "ax.set_xticks(list(map(lambda x: x+(0.3), x_positions)))\n",
    "ax.set_ylabel('Count of Earthquakes')\n",
    "ax.set_xlabel('Earthquake Magnitude Bins')\n",
    "ax.set_title('Count of Earthquakes vs Magnitude bins')\n",
    "ax.legend(years)"
   ]
  },
  {
   "cell_type": "markdown",
   "metadata": {},
   "source": [
    "### Question 7: Find the 10 countries with the highest number of earthquakes (30 points) (Note: Yes, this is only countries, not full place)"
   ]
  },
  {
   "cell_type": "code",
   "execution_count": null,
   "metadata": {},
   "outputs": [],
   "source": [
    "df['country'] = df['place'].map(lambda x: x.split(',')[-1] if ',' in x else x)\n",
    "\n",
    "q7 = df.groupby('country')['mag'].count().sort_values(ascending = False).head(10)"
   ]
  },
  {
   "cell_type": "code",
   "execution_count": null,
   "metadata": {},
   "outputs": [],
   "source": [
    "print(q7)"
   ]
  },
  {
   "cell_type": "markdown",
   "metadata": {},
   "source": [
    "### Question 8: Analyze the distribution of the Earthquake magnitudes. This is, make a histogram of the Earthquake count versus magnitude. Make sure to use a Logarithmic scale. What sort of relationship do you see? (20 points) Please add labels and colors to the plot."
   ]
  },
  {
   "cell_type": "code",
   "execution_count": null,
   "metadata": {},
   "outputs": [],
   "source": [
    "fig, ax = plt.subplots(1, 1, sharey=True, tight_layout=True)\n",
    "\n",
    "ax.hist(x = df['mag'], log = True, width = 0.4, color = 'g')\n",
    "\n",
    "ax.set_ylabel('Log of count of Earthquakes')\n",
    "ax.set_xlabel('Earthquake Magnitude')\n",
    "ax.set_title('Log of count of Earthquakes vs Magnitude')"
   ]
  },
  {
   "cell_type": "markdown",
   "metadata": {},
   "source": [
    "##### There is an aparent strong linear relation with negative correlation, and a deviation from linear behavior pass the magnitude of 7"
   ]
  },
  {
   "cell_type": "markdown",
   "metadata": {},
   "source": [
    "### Question 9: Analyze the distribution of the Earthquake depths. This is, make a histogram of the Earthquake count versus depth. Make sure to use a Logarithmic scale. What sort of relationship do you see? (20 points) Please add labels and colors to the plot."
   ]
  },
  {
   "cell_type": "code",
   "execution_count": null,
   "metadata": {},
   "outputs": [],
   "source": [
    "#Question 9\n",
    "\n",
    "fig, ax = plt.subplots(1, 1, sharey=True, tight_layout=True)\n",
    "\n",
    "\n",
    "ax.hist(x = df['depth'], log = True, width = 65, color = 'r')\n",
    "\n",
    "ax.set_ylabel('Log of count of Earthquakes')\n",
    "ax.set_xlabel('Earthquake Depth')\n",
    "ax.set_title('Log of count of Earthquakes vs Depth')"
   ]
  },
  {
   "cell_type": "markdown",
   "metadata": {},
   "source": [
    "##### The trend for this data is not as clear as the one on question 8. The linear model would not be as strong, but it would be negatively correlated. A more complex model (quadratic, cubic, bimodal, etc.) could better fit this data."
   ]
  },
  {
   "cell_type": "markdown",
   "metadata": {},
   "source": [
    "### Question 10: Visualize the locations of earthquakes by making a scatterplot of their latitude and longitude. (20 points) Please add labels and colors to the plot."
   ]
  },
  {
   "cell_type": "code",
   "execution_count": null,
   "metadata": {},
   "outputs": [],
   "source": [
    "fig, ax = plt.subplots(1, 1, sharey=True, tight_layout=True)\n",
    "ax.scatter(x = df['longitude'], y = df['latitude'], alpha = 0.6, s = df['mag'], color = 'b')\n",
    "ax.set_title('Lat-Long earthquake location map')\n",
    "ax.set_ylabel('Latitude')\n",
    "ax.set_xlabel('Longitude')"
   ]
  }
 ],
 "metadata": {
  "kernelspec": {
   "display_name": "Python 3",
   "language": "python",
   "name": "python3"
  },
  "language_info": {
   "codemirror_mode": {
    "name": "ipython",
    "version": 3
   },
   "file_extension": ".py",
   "mimetype": "text/x-python",
   "name": "python",
   "nbconvert_exporter": "python",
   "pygments_lexer": "ipython3",
   "version": "3.7.3"
  }
 },
 "nbformat": 4,
 "nbformat_minor": 2
}
